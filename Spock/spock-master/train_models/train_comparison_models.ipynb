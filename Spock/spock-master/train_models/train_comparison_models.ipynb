{
 "cells": [
  {
   "cell_type": "code",
   "execution_count": 1,
   "metadata": {},
   "outputs": [],
   "source": [
    "import numpy as np\n",
    "import matplotlib.pyplot as plt\n",
    "%matplotlib inline\n",
    "import pandas as pd\n",
    "from sklearn import metrics\n",
    "import xgboost as xgb\n",
    "from xgboost.sklearn import XGBClassifier\n",
    "from hyperopt import hp, fmin, tpe, STATUS_OK, Trials\n",
    "import hyperopt\n",
    "import sys\n",
    "sys.path.append('../spock/')\n",
    "from modelfitting import train_test_split, ROC_curve, stable_unstable_hist, calibration_plot, unstable_error_fraction"
   ]
  },
  {
   "cell_type": "code",
   "execution_count": 2,
   "metadata": {},
   "outputs": [],
   "source": [
    "datapath = '../training_data/'\n",
    "dset = 'resonant/'\n",
    "Norbits = 1e4\n",
    "Nout = 80\n",
    "featureargs = (Norbits, Nout) # params to pass feature function\n",
    "featurefolder = 'additional_featuresNorbits{0:.1f}Nout{1}trio/'.format(Norbits, Nout)\n",
    "trainingdatafolder = datapath+dset+featurefolder"
   ]
  },
  {
   "cell_type": "code",
   "execution_count": 3,
   "metadata": {},
   "outputs": [],
   "source": [
    "space ={'max_depth': hp.randint('x_max_depth',  10),\n",
    "        'min_child_weight': hp.randint ('x_min_child', 20),\n",
    "        'subsample': hp.uniform ('x_subsample', 0.8, 1),\n",
    "        \"learning_rate\":hp.uniform(\"x_learning_rate\",0.01,0.2),\n",
    "}\n",
    "\n",
    "def objective(params):\n",
    "    clf = XGBClassifier(n_estimators = 100,\n",
    "                            max_depth = params['max_depth'], \n",
    "                            min_child_weight = params['min_child_weight'],\n",
    "                            subsample = params['subsample'],\n",
    "                            learning_rate = params['learning_rate'], seed = 0)\n",
    "    \n",
    "    score = xgb.cv(clf.get_xgb_params(), dtrain, nfold = 5, metrics = \"auc\", early_stopping_rounds=10)\n",
    "    avg_score =  np.mean(score[\"test-auc-mean\"])\n",
    "    error = np.mean(score[\"test-auc-std\"])\n",
    "    \n",
    "    print(\"SCORE:\", avg_score, \"ERROR\", error)#, \"HOLDOUT SCORE\", test_score)\n",
    "    return{'loss':1-avg_score, 'status': STATUS_OK, \"cv_score\":avg_score , \"cv_error\":error}"
   ]
  },
  {
   "cell_type": "markdown",
   "metadata": {},
   "source": [
    "# MEGNO"
   ]
  },
  {
   "cell_type": "code",
   "execution_count": 4,
   "metadata": {},
   "outputs": [],
   "source": [
    "features = ['MEGNO']\n",
    "\n",
    "trainX, trainY, testX, testY = train_test_split(trainingdatafolder, features, filter=False)\n",
    "\n",
    "dtrain = xgb.DMatrix(trainX, trainY)\n",
    "dtest = xgb.DMatrix(testX, testY)"
   ]
  },
  {
   "cell_type": "code",
   "execution_count": 5,
   "metadata": {},
   "outputs": [
    {
     "name": "stdout",
     "output_type": "stream",
     "text": [
      "SCORE:                                              \n",
      "0.5                                                 \n",
      "ERROR                                               \n",
      "0.0                                                 \n",
      "SCORE:                                                        \n",
      "0.5                                                           \n",
      "ERROR                                                         \n",
      "0.0                                                           \n",
      "SCORE:                                                        \n",
      "0.8611668199999999                                            \n",
      "ERROR                                                         \n",
      "0.0013405019387991654                                         \n",
      "SCORE:                                                                       \n",
      "0.5                                                                          \n",
      "ERROR                                                                        \n",
      "0.0                                                                          \n",
      "SCORE:                                                                       \n",
      "0.86099736                                                                   \n",
      "ERROR                                                                        \n",
      "0.0014658247367635093                                                        \n",
      "SCORE:                                                                       \n",
      "0.86088938                                                                   \n",
      "ERROR                                                                        \n",
      "0.0013329785063331528                                                        \n",
      "SCORE:                                                                       \n",
      "0.85939506                                                                   \n",
      "ERROR                                                                        \n",
      "0.0016774271868894078                                                        \n",
      "SCORE:                                                                       \n",
      "0.86057868                                                                   \n",
      "ERROR                                                                        \n",
      "0.0011456545129699006                                                        \n",
      "SCORE:                                                                       \n",
      "0.85995504                                                                   \n",
      "ERROR                                                                        \n",
      "0.001552760627718679                                                         \n",
      "SCORE:                                                                       \n",
      "0.8601207800000001                                                           \n",
      "ERROR                                                                        \n",
      "0.0016993739178934098                                                        \n",
      "SCORE:                                                                        \n",
      "0.8516264                                                                     \n",
      "ERROR                                                                         \n",
      "0.0018452717500596337                                                         \n",
      "SCORE:                                                                        \n",
      "0.8603455                                                                     \n",
      "ERROR                                                                         \n",
      "0.001248880579752893                                                          \n",
      "SCORE:                                                                        \n",
      "0.819965                                                                      \n",
      "ERROR                                                                         \n",
      "0.0025621103611764566                                                         \n",
      "SCORE:                                                                        \n",
      "0.8602586000000001                                                            \n",
      "ERROR                                                                         \n",
      "0.00135549038663539                                                           \n",
      "SCORE:                                                                        \n",
      "0.86094914                                                                    \n",
      "ERROR                                                                         \n",
      "0.0014424738109741985                                                         \n",
      "SCORE:                                                                        \n",
      "0.86015204                                                                    \n",
      "ERROR                                                                         \n",
      "0.0014095372437834906                                                         \n",
      "SCORE:                                                                        \n",
      "0.85950966                                                                    \n",
      "ERROR                                                                         \n",
      "0.001438637128411849                                                          \n",
      "SCORE:                                                                        \n",
      "0.8601034399999999                                                            \n",
      "ERROR                                                                         \n",
      "0.0015734355534735831                                                         \n",
      "SCORE:                                                                        \n",
      "0.8452034600000001                                                            \n",
      "ERROR                                                                         \n",
      "0.0026804984440035973                                                         \n",
      "SCORE:                                                                        \n",
      "0.8600009399999999                                                            \n",
      "ERROR                                                                         \n",
      "0.0015063442963771333                                                         \n",
      "SCORE:                                                                        \n",
      "0.8611383199999999                                                            \n",
      "ERROR                                                                         \n",
      "0.001371248022740953                                                          \n",
      "SCORE:                                                                        \n",
      "0.8582879                                                                     \n",
      "ERROR                                                                         \n",
      "0.0014297302321270222                                                         \n",
      "SCORE:                                                                        \n",
      "0.861125                                                                      \n",
      "ERROR                                                                         \n",
      "0.0012934865379978747                                                         \n",
      "SCORE:                                                                        \n",
      "0.86100804                                                                    \n",
      "ERROR                                                                         \n",
      "0.0013118620871256194                                                         \n",
      "SCORE:                                                                        \n",
      "0.86101492                                                                    \n",
      "ERROR                                                                         \n",
      "0.0014359976109141084                                                         \n",
      "SCORE:                                                                        \n",
      "0.86097936                                                                    \n",
      "ERROR                                                                         \n",
      "0.0014179484722899537                                                         \n",
      "SCORE:                                                                        \n",
      "0.82003478                                                                    \n"
     ]
    },
    {
     "name": "stdout",
     "output_type": "stream",
     "text": [
      "ERROR                                                                         \n",
      "0.002431217947365726                                                          \n",
      "SCORE:                                                                        \n",
      "0.8600063800000001                                                            \n",
      "ERROR                                                                         \n",
      "0.0014047306585843766                                                         \n",
      "SCORE:                                                                        \n",
      "0.86115754                                                                    \n",
      "ERROR                                                                         \n",
      "0.001428569574690654                                                          \n",
      "SCORE:                                                                        \n",
      "0.8611799                                                                     \n",
      "ERROR                                                                         \n",
      "0.001412881236183119                                                          \n",
      "SCORE:                                                                        \n",
      "0.86109632                                                           \n",
      "ERROR                                                                \n",
      "0.0013541545221306879                                                \n",
      "SCORE:                                                               \n",
      "0.86110644                                                           \n",
      "ERROR                                                                \n",
      "0.001351314793651011                                                 \n",
      "SCORE:                                                               \n",
      "0.8568938399999999                                                   \n",
      "ERROR                                                                \n",
      "0.001427617148572914                                                 \n",
      "SCORE:                                                               \n",
      "0.5                                                                  \n",
      "ERROR                                                                \n",
      "0.0                                                                  \n",
      "SCORE:                                                               \n",
      "0.8610797800000001                                                   \n",
      "ERROR                                                                \n",
      "0.001393848956286935                                                 \n",
      "SCORE:                                                               \n",
      "0.5                                                                  \n",
      "ERROR                                                                \n",
      "0.0                                                                  \n",
      "SCORE:                                                               \n",
      "0.8604065799999999                                                   \n",
      "ERROR                                                                \n",
      "0.0014718707047982143                                                \n",
      "SCORE:                                                               \n",
      "0.8181692600000001                                                   \n",
      "ERROR                                                                \n",
      "0.002585539491180174                                                 \n",
      "SCORE:                                                               \n",
      "0.85086876                                                           \n",
      "ERROR                                                                \n",
      "0.0020117618419765552                                                \n",
      "SCORE:                                                               \n",
      "0.8608267                                                            \n",
      "ERROR                                                                \n",
      "0.0013280521058157456                                                \n",
      "SCORE:                                                               \n",
      "0.85764814                                                           \n",
      "ERROR                                                                \n",
      "0.0014509520817080617                                                \n",
      "SCORE:                                                               \n",
      "0.8610423199999999                                                   \n",
      "ERROR                                                                \n",
      "0.001325492453565133                                                 \n",
      "SCORE:                                                               \n",
      "0.85949656                                                           \n",
      "ERROR                                                                \n",
      "0.001312104399506026                                                 \n",
      "SCORE:                                                               \n",
      "0.5                                                                  \n",
      "ERROR                                                                \n",
      "0.0                                                                  \n",
      "SCORE:                                                               \n",
      "0.86031642                                                           \n",
      "ERROR                                                                \n",
      "0.0015480493208088959                                                \n",
      "SCORE:                                                               \n",
      "0.8607782800000001                                                   \n",
      "ERROR                                                                \n",
      "0.0012706122540881413                                                \n",
      "SCORE:                                                               \n",
      "0.86049568                                                           \n",
      "ERROR                                                                \n",
      "0.0015364135764584614                                                \n",
      "SCORE:                                                               \n",
      "0.86077116                                                           \n",
      "ERROR                                                                \n",
      "0.0015733458527945592                                                \n",
      "SCORE:                                                               \n",
      "0.85033958                                                           \n",
      "ERROR                                                                \n",
      "0.0019429999075109086                                                \n",
      "SCORE:                                                               \n",
      "0.86102404                                                           \n",
      "ERROR                                                                \n",
      "0.0014333650301056467                                                \n",
      "100%|██████████| 50/50 [02:42<00:00,  3.25s/it, best loss: 0.1388201]\n",
      "Optimization Time: %f seconds 162.74583625793457\n",
      "CPU times: user 54min 23s, sys: 2min 25s, total: 56min 48s\n",
      "Wall time: 2min 42s\n"
     ]
    }
   ],
   "source": [
    "%%time\n",
    "trials = Trials()\n",
    "import time\n",
    "start = time.time()\n",
    "best = fmin(fn=objective, space = space, algo = tpe.suggest, max_evals = 50, trials = trials, rstate=np.random.RandomState(seed=0))\n",
    "end = time.time()\n",
    "print(\"Optimization Time: %f seconds\", (end  -start))"
   ]
  },
  {
   "cell_type": "code",
   "execution_count": 6,
   "metadata": {},
   "outputs": [
    {
     "data": {
      "text/plain": [
       "{'x_learning_rate': 0.19783605520296385,\n",
       " 'x_max_depth': 6,\n",
       " 'x_min_child': 6,\n",
       " 'x_subsample': 0.889237359092936}"
      ]
     },
     "execution_count": 6,
     "metadata": {},
     "output_type": "execute_result"
    }
   ],
   "source": [
    "best"
   ]
  },
  {
   "cell_type": "markdown",
   "metadata": {},
   "source": [
    "# Would have to set num_boost_round=100 to see the same CV score as in our final fitted model\n",
    "\n",
    "We're setting n_estimators=100 in model, which is the equivalent of num_boost_round in CV, so if we use the default in CV (10), we will get slightly lower powerformance"
   ]
  },
  {
   "cell_type": "code",
   "execution_count": 7,
   "metadata": {},
   "outputs": [
    {
     "name": "stdout",
     "output_type": "stream",
     "text": [
      "[0]\ttrain-auc:0.86207+0.00037\ttest-auc:0.85946+0.00175\n",
      "[1]\ttrain-auc:0.86345+0.00045\ttest-auc:0.86055+0.00146\n",
      "[2]\ttrain-auc:0.86398+0.00054\ttest-auc:0.86084+0.00145\n",
      "[3]\ttrain-auc:0.86447+0.00034\ttest-auc:0.86117+0.00151\n",
      "[4]\ttrain-auc:0.86484+0.00040\ttest-auc:0.86143+0.00143\n",
      "[5]\ttrain-auc:0.86510+0.00032\ttest-auc:0.86163+0.00138\n",
      "[6]\ttrain-auc:0.86535+0.00034\ttest-auc:0.86169+0.00134\n",
      "[7]\ttrain-auc:0.86554+0.00036\ttest-auc:0.86170+0.00130\n",
      "[8]\ttrain-auc:0.86574+0.00033\ttest-auc:0.86170+0.00128\n",
      "[9]\ttrain-auc:0.86589+0.00027\ttest-auc:0.86163+0.00122\n",
      "[10]\ttrain-auc:0.86604+0.00026\ttest-auc:0.86167+0.00125\n",
      "[11]\ttrain-auc:0.86618+0.00028\ttest-auc:0.86165+0.00127\n",
      "[12]\ttrain-auc:0.86638+0.00032\ttest-auc:0.86164+0.00128\n",
      "[13]\ttrain-auc:0.86651+0.00033\ttest-auc:0.86168+0.00132\n",
      "[14]\ttrain-auc:0.86662+0.00035\ttest-auc:0.86168+0.00130\n",
      "[15]\ttrain-auc:0.86675+0.00032\ttest-auc:0.86169+0.00136\n",
      "[16]\ttrain-auc:0.86682+0.00033\ttest-auc:0.86175+0.00133\n",
      "[17]\ttrain-auc:0.86694+0.00030\ttest-auc:0.86178+0.00136\n",
      "[18]\ttrain-auc:0.86700+0.00031\ttest-auc:0.86174+0.00137\n",
      "[19]\ttrain-auc:0.86709+0.00032\ttest-auc:0.86173+0.00141\n",
      "[20]\ttrain-auc:0.86721+0.00033\ttest-auc:0.86166+0.00139\n",
      "[21]\ttrain-auc:0.86726+0.00035\ttest-auc:0.86164+0.00136\n",
      "[22]\ttrain-auc:0.86731+0.00035\ttest-auc:0.86159+0.00134\n",
      "[23]\ttrain-auc:0.86738+0.00036\ttest-auc:0.86155+0.00137\n",
      "[24]\ttrain-auc:0.86746+0.00043\ttest-auc:0.86149+0.00143\n",
      "[25]\ttrain-auc:0.86749+0.00042\ttest-auc:0.86149+0.00145\n",
      "[26]\ttrain-auc:0.86757+0.00036\ttest-auc:0.86152+0.00145\n",
      "[27]\ttrain-auc:0.86765+0.00038\ttest-auc:0.86156+0.00140\n",
      "[28]\ttrain-auc:0.86771+0.00040\ttest-auc:0.86157+0.00141\n",
      "[29]\ttrain-auc:0.86778+0.00042\ttest-auc:0.86158+0.00140\n",
      "[30]\ttrain-auc:0.86787+0.00040\ttest-auc:0.86158+0.00139\n",
      "[31]\ttrain-auc:0.86794+0.00040\ttest-auc:0.86159+0.00137\n",
      "[32]\ttrain-auc:0.86801+0.00040\ttest-auc:0.86154+0.00139\n",
      "[33]\ttrain-auc:0.86807+0.00042\ttest-auc:0.86155+0.00137\n",
      "[34]\ttrain-auc:0.86814+0.00047\ttest-auc:0.86155+0.00137\n",
      "[35]\ttrain-auc:0.86824+0.00049\ttest-auc:0.86150+0.00144\n",
      "[36]\ttrain-auc:0.86831+0.00041\ttest-auc:0.86146+0.00142\n",
      "[37]\ttrain-auc:0.86845+0.00047\ttest-auc:0.86147+0.00146\n",
      "[38]\ttrain-auc:0.86868+0.00051\ttest-auc:0.86141+0.00150\n",
      "[39]\ttrain-auc:0.86881+0.00045\ttest-auc:0.86142+0.00147\n",
      "[40]\ttrain-auc:0.86885+0.00046\ttest-auc:0.86143+0.00146\n",
      "[41]\ttrain-auc:0.86892+0.00048\ttest-auc:0.86140+0.00146\n",
      "[42]\ttrain-auc:0.86901+0.00050\ttest-auc:0.86141+0.00146\n",
      "[43]\ttrain-auc:0.86914+0.00051\ttest-auc:0.86143+0.00146\n",
      "[44]\ttrain-auc:0.86925+0.00053\ttest-auc:0.86143+0.00150\n",
      "[45]\ttrain-auc:0.86928+0.00053\ttest-auc:0.86144+0.00148\n",
      "[46]\ttrain-auc:0.86937+0.00048\ttest-auc:0.86145+0.00149\n",
      "[47]\ttrain-auc:0.86953+0.00053\ttest-auc:0.86144+0.00154\n",
      "[48]\ttrain-auc:0.86956+0.00053\ttest-auc:0.86144+0.00154\n",
      "[49]\ttrain-auc:0.86974+0.00055\ttest-auc:0.86131+0.00169\n"
     ]
    }
   ],
   "source": [
    "model = XGBClassifier(learning_rate = best[\"x_learning_rate\"], \n",
    "                         max_depth = int(best[\"x_max_depth\"]), \n",
    "                         subsample = best[\"x_subsample\"],\n",
    "                         min_child_weight = best['x_min_child'])\n",
    "\n",
    "score = xgb.cv(model.get_xgb_params(), dtrain, nfold = 5, metrics = \"auc\", verbose_eval=True, num_boost_round=50)"
   ]
  },
  {
   "cell_type": "code",
   "execution_count": 8,
   "metadata": {},
   "outputs": [
    {
     "data": {
      "text/plain": [
       "Text(0, 0.5, 'CV AUC score')"
      ]
     },
     "execution_count": 8,
     "metadata": {},
     "output_type": "execute_result"
    },
    {
     "data": {
      "image/png": "[encoded data removed]",
      "text/plain": [
       "<Figure size 432x288 with 1 Axes>"
      ]
     },
     "metadata": {
      "needs_background": "light"
     },
     "output_type": "display_data"
    }
   ],
   "source": [
    "n_estimators = 10\n",
    "fig, ax = plt.subplots()\n",
    "ax.plot(score.index, score['train-auc-mean'], label='Train')\n",
    "ax.plot(score.index, score['test-auc-mean'], label='Test')\n",
    "ax.axvline(n_estimators, linestyle='--')\n",
    "ax.legend()\n",
    "ax.set_xlabel('n_estimators (num trees)')\n",
    "ax.set_ylabel('CV AUC score')"
   ]
  },
  {
   "cell_type": "code",
   "execution_count": 9,
   "metadata": {},
   "outputs": [
    {
     "data": {
      "text/plain": [
       "XGBClassifier(base_score=0.5, booster=None, colsample_bylevel=1,\n",
       "              colsample_bynode=1, colsample_bytree=1, gamma=0, gpu_id=-1,\n",
       "              importance_type='gain', interaction_constraints=None,\n",
       "              learning_rate=0.19783605520296385, max_delta_step=0, max_depth=6,\n",
       "              min_child_weight=6, missing=nan, monotone_constraints=None,\n",
       "              n_estimators=10, n_jobs=0, num_parallel_tree=1,\n",
       "              objective='binary:logistic', random_state=0, reg_alpha=0,\n",
       "              reg_lambda=1, scale_pos_weight=1, subsample=0.889237359092936,\n",
       "              tree_method=None, validate_parameters=False, verbosity=None)"
      ]
     },
     "execution_count": 9,
     "metadata": {},
     "output_type": "execute_result"
    }
   ],
   "source": [
    "model.set_params(n_estimators = n_estimators)\n",
    "model.fit(trainX, trainY)"
   ]
  },
  {
   "cell_type": "code",
   "execution_count": 10,
   "metadata": {},
   "outputs": [],
   "source": [
    "model.save_model(datapath+'../spock/models/megno.json')"
   ]
  },
  {
   "cell_type": "code",
   "execution_count": 11,
   "metadata": {},
   "outputs": [],
   "source": [
    "model = XGBClassifier()\n",
    "model.load_model(datapath+'../spock/models/megno.json')"
   ]
  },
  {
   "cell_type": "code",
   "execution_count": 12,
   "metadata": {},
   "outputs": [
    {
     "data": {
      "text/plain": [
       "Text(0.5, 1.0, 'ROC curve (AUC = 0.865)')"
      ]
     },
     "execution_count": 12,
     "metadata": {},
     "output_type": "execute_result"
    },
    {
     "data": {
      "image/png": "[encoded data removed]",
      "text/plain": [
       "<Figure size 432x288 with 1 Axes>"
      ]
     },
     "metadata": {
      "needs_background": "light"
     },
     "output_type": "display_data"
    }
   ],
   "source": [
    "roc_auc, fpr, tpr, ROCthresholds = ROC_curve(trainingdatafolder, model, features)\n",
    "\n",
    "fig, ax = plt.subplots()\n",
    "ax.plot(fpr, tpr)\n",
    "ax.plot([0, 1], [0, 1], 'k--')\n",
    "ax.set_xlim([0.0, 1.0])\n",
    "ax.set_ylim([0.0, 1.0])\n",
    "ax.set_xlabel('False Positive Rate')\n",
    "ax.set_ylabel('True Positive Rate')\n",
    "ax.set_title('ROC curve (AUC = {0:.3f})'.format(roc_auc))"
   ]
  },
  {
   "cell_type": "code",
   "execution_count": 13,
   "metadata": {},
   "outputs": [
    {
     "name": "stdout",
     "output_type": "stream",
     "text": [
      "Threshold 1.623323678970337, TPR = 0.0, FPR = 0.0\n",
      "Threshold 0.6024209856987, TPR = 0.19599697885196374, FPR = 0.032217308907138344\n",
      "Threshold 0.5874767899513245, TPR = 0.25018882175226587, FPR = 0.04456440590363522\n",
      "Threshold 0.5661514401435852, TPR = 0.3419561933534743, FPR = 0.06357319244242807\n",
      "Threshold 0.5378871560096741, TPR = 0.42503776435045315, FPR = 0.08189283868374203\n",
      "Threshold 0.5291825532913208, TPR = 0.4354229607250755, FPR = 0.08516625509676679\n",
      "Threshold 0.5153305530548096, TPR = 0.4994335347432024, FPR = 0.10388789984494343\n",
      "Threshold 0.4999709725379944, TPR = 0.5287009063444109, FPR = 0.11388043415838742\n",
      "Threshold 0.491932213306427, TPR = 0.5817598187311178, FPR = 0.13162579681846895\n",
      "Threshold 0.4834904670715332, TPR = 0.5900679758308157, FPR = 0.1355883535289726\n",
      "Threshold 0.4771774709224701, TPR = 0.6146148036253777, FPR = 0.1443748923218285\n",
      "Threshold 0.4693728983402252, TPR = 0.6333081570996979, FPR = 0.1504622982828921\n",
      "Threshold 0.4641869366168976, TPR = 0.6425604229607251, FPR = 0.15402285648653305\n",
      "Threshold 0.4545890986919403, TPR = 0.677870090634441, FPR = 0.16602538333429048\n",
      "Threshold 0.4493645131587982, TPR = 0.6918429003021148, FPR = 0.17016022511916384\n",
      "Threshold 0.4419822692871094, TPR = 0.6984516616314199, FPR = 0.17222764601160054\n",
      "Threshold 0.4301164150238037, TPR = 0.7447129909365559, FPR = 0.19135128926663986\n",
      "Threshold 0.42414382100105286, TPR = 0.7488670694864048, FPR = 0.1927869982197209\n",
      "Threshold 0.4156605303287506, TPR = 0.7762462235649547, FPR = 0.2049043817837248\n",
      "Threshold 0.41020268201828003, TPR = 0.7796450151057401, FPR = 0.20674208924366852\n",
      "Threshold 0.40488675236701965, TPR = 0.7924848942598187, FPR = 0.21248492505599265\n",
      "Threshold 0.39042946696281433, TPR = 0.7939954682779456, FPR = 0.21363349221845748\n",
      "Threshold 0.3841599225997925, TPR = 0.7956948640483383, FPR = 0.21512662952966174\n",
      "Threshold 0.3750455677509308, TPR = 0.8007930513595166, FPR = 0.21765347728708437\n",
      "Threshold 0.36762535572052, TPR = 0.8075906344410876, FPR = 0.22098432205823235\n",
      "Threshold 0.3648134469985962, TPR = 0.8204305135951662, FPR = 0.22770343995865158\n",
      "Threshold 0.3598301112651825, TPR = 0.8257175226586103, FPR = 0.229943145925458\n",
      "Threshold 0.3487637937068939, TPR = 0.8395015105740181, FPR = 0.23626026531901453\n",
      "Threshold 0.3417547941207886, TPR = 0.8525302114803626, FPR = 0.24320909665192672\n",
      "Threshold 0.33225998282432556, TPR = 0.8670694864048338, FPR = 0.25285706081663123\n",
      "Threshold 0.3293498158454895, TPR = 0.8780211480362538, FPR = 0.2604376040888991\n",
      "Threshold 0.3185155987739563, TPR = 0.8893504531722054, FPR = 0.27129156377419167\n",
      "Threshold 0.3093251883983612, TPR = 0.8927492447129909, FPR = 0.27473726526158615\n",
      "Threshold 0.30417951941490173, TPR = 0.8982250755287009, FPR = 0.27835525182335036\n",
      "Threshold 0.29885998368263245, TPR = 0.9014350453172205, FPR = 0.2803078159995406\n",
      "Threshold 0.2907068729400635, TPR = 0.9037009063444109, FPR = 0.2826623786825935\n",
      "Threshold 0.28452134132385254, TPR = 0.9120090634441088, FPR = 0.289209211508643\n",
      "Threshold 0.2662430703639984, TPR = 0.9148413897280967, FPR = 0.2914489174754494\n",
      "Threshold 0.2558712065219879, TPR = 0.9159743202416919, FPR = 0.2934589100097628\n",
      "Threshold 0.24761991202831268, TPR = 0.9188066465256798, FPR = 0.29598575776718544\n",
      "Threshold 0.24010643362998962, TPR = 0.9223942598187311, FPR = 0.29834032045023834\n",
      "Threshold 0.22963613271713257, TPR = 0.9276812688821753, FPR = 0.3050020099925343\n",
      "Threshold 0.22506745159626007, TPR = 0.93202416918429, FPR = 0.31143398610233736\n",
      "Threshold 0.21241408586502075, TPR = 0.9350453172205438, FPR = 0.31482225923160856\n",
      "Threshold 0.20364826917648315, TPR = 0.9361782477341389, FPR = 0.318497674151496\n",
      "Threshold 0.19467373192310333, TPR = 0.9378776435045317, FPR = 0.3210245219089186\n",
      "Threshold 0.18723896145820618, TPR = 0.9414652567975831, FPR = 0.32596336070751736\n",
      "Threshold 0.1738717406988144, TPR = 0.9465634441087614, FPR = 0.33457761442600353\n",
      "Threshold 0.17028716206550598, TPR = 0.9480740181268882, FPR = 0.33899959800149315\n",
      "Threshold 0.15884917974472046, TPR = 0.9490181268882175, FPR = 0.34359386665135244\n",
      "Threshold 0.15059852600097656, TPR = 0.9514728096676737, FPR = 0.35117440992362026\n",
      "Threshold 0.14408665895462036, TPR = 0.9588368580060423, FPR = 0.3768448860047091\n",
      "Threshold 0.13664858043193817, TPR = 0.9633685800604229, FPR = 0.3921208292654913\n",
      "Threshold 0.13285519182682037, TPR = 0.9643126888217523, FPR = 0.3978062367196922\n",
      "Threshold 0.12335552275180817, TPR = 0.9648791540785498, FPR = 0.4013093665652099\n",
      "Threshold 0.11589743196964264, TPR = 0.9686555891238671, FPR = 0.4238787113076437\n",
      "Threshold 0.11163139343261719, TPR = 0.9726208459214502, FPR = 0.4427726411301901\n",
      "Threshold 0.10203644633293152, TPR = 0.9729984894259819, FPR = 0.4462183426175846\n",
      "Threshold 0.09822247177362442, TPR = 0.9792296072507553, FPR = 0.48883018434502956\n",
      "Threshold 0.09404460340738297, TPR = 0.9822507552870091, FPR = 0.5239763395164532\n",
      "Threshold 0.08997891843318939, TPR = 0.9854607250755287, FPR = 0.5505656693275139\n",
      "Threshold 0.07980366796255112, TPR = 0.9888595166163142, FPR = 0.5949003617986561\n",
      "Threshold 0.07334733754396439, TPR = 0.9952794561933535, FPR = 0.7641417331878482\n"
     ]
    }
   ],
   "source": [
    "for i in range(0,len(tpr), 5):\n",
    "    print(\"Threshold {0}, TPR = {1}, FPR = {2}\".format(ROCthresholds[i], tpr[i], fpr[i]))"
   ]
  },
  {
   "cell_type": "markdown",
   "metadata": {},
   "source": [
    "# AMD"
   ]
  },
  {
   "cell_type": "code",
   "execution_count": 14,
   "metadata": {},
   "outputs": [],
   "source": [
    "features = ['AMDfracnear', 'AMDfracfar']\n",
    "\n",
    "trainX, trainY, testX, testY = train_test_split(trainingdatafolder, features, filter=False)\n",
    "\n",
    "dtrain = xgb.DMatrix(trainX, trainY)\n",
    "dtest = xgb.DMatrix(testX, testY)"
   ]
  },
  {
   "cell_type": "code",
   "execution_count": 15,
   "metadata": {},
   "outputs": [
    {
     "name": "stdout",
     "output_type": "stream",
     "text": [
      "SCORE:                                              \n",
      "0.5                                                 \n",
      "ERROR                                               \n",
      "0.0                                                 \n",
      "SCORE:                                                        \n",
      "0.5                                                           \n",
      "ERROR                                                         \n",
      "0.0                                                           \n",
      "SCORE:                                                        \n",
      "0.72910474                                                    \n",
      "ERROR                                                         \n",
      "0.0018698807498991102                                         \n",
      "SCORE:                                                                        \n",
      "0.5                                                                           \n",
      "ERROR                                                                         \n",
      "0.0                                                                           \n",
      "SCORE:                                                                        \n",
      "0.7290709800000001                                                            \n",
      "ERROR                                                                         \n",
      "0.001917840280252519                                                          \n",
      "SCORE:                                                                        \n",
      "0.7288731                                                                     \n",
      "ERROR                                                                         \n",
      "0.001348100101713691                                                          \n",
      "SCORE:                                                                        \n",
      "0.72620602                                                                    \n",
      "ERROR                                                                         \n",
      "0.0016480991681859405                                                         \n",
      "SCORE:                                                                        \n",
      "0.7284066                                                                     \n",
      "ERROR                                                                         \n",
      "0.0015489238582606724                                                         \n",
      "SCORE:                                                                        \n",
      "0.72751186                                                                    \n",
      "ERROR                                                                         \n",
      "0.0015575852030015533                                                         \n",
      "SCORE:                                                                        \n",
      "0.7278849999999999                                                            \n",
      "ERROR                                                                         \n",
      "0.001296437340897113                                                          \n",
      "SCORE:                                                                         \n",
      "0.7153688800000001                                                             \n",
      "ERROR                                                                          \n",
      "0.0029522911122196187                                                          \n",
      "SCORE:                                                                         \n",
      "0.72798316                                                                     \n",
      "ERROR                                                                          \n",
      "0.0013485553393624426                                                          \n",
      "SCORE:                                                                         \n",
      "0.6883814200000001                                                             \n",
      "ERROR                                                                          \n",
      "0.0038725015361812587                                                          \n",
      "SCORE:                                                                         \n",
      "0.7279276                                                                      \n",
      "ERROR                                                                          \n",
      "0.0011819185117899404                                                          \n",
      "SCORE:                                                                         \n",
      "0.72903558                                                                     \n",
      "ERROR                                                                          \n",
      "0.0018752198725710642                                                          \n",
      "SCORE:                                                                         \n",
      "0.7277216200000001                                                             \n",
      "ERROR                                                                          \n",
      "0.0011346743657406526                                                          \n",
      "SCORE:                                                                         \n",
      "0.72626274                                                                     \n",
      "ERROR                                                                          \n",
      "0.0016214515848383207                                                          \n",
      "SCORE:                                                                         \n",
      "0.72796608                                                                     \n",
      "ERROR                                                                          \n",
      "0.001997213294615024                                                           \n",
      "SCORE:                                                                         \n",
      "0.7041419                                                                      \n",
      "ERROR                                                                          \n",
      "0.004016255070578126                                                           \n",
      "SCORE:                                                                         \n",
      "0.7270194                                                                      \n",
      "ERROR                                                                          \n",
      "0.0014514258099886815                                                          \n",
      "SCORE:                                                                         \n",
      "0.72910758                                                                     \n",
      "ERROR                                                                          \n",
      "0.0018014175637141763                                                          \n",
      "SCORE:                                                                         \n",
      "0.72407844                                                            \n",
      "ERROR                                                                 \n",
      "0.002278547668603331                                                  \n",
      "SCORE:                                                                \n",
      "0.72930988                                                            \n",
      "ERROR                                                                 \n",
      "0.0016416331903948375                                                 \n",
      "SCORE:                                                                         \n",
      "0.7288828                                                                      \n",
      "ERROR                                                                          \n",
      "0.0014269180273203939                                                          \n",
      "SCORE:                                                                         \n",
      "0.72916288                                                                     \n",
      "ERROR                                                                          \n",
      "0.0017020334544114702                                                          \n",
      "SCORE:                                                                         \n",
      "0.72889256                                                                     \n",
      "ERROR                                                                          \n",
      "0.0016785585675861755                                                          \n",
      "SCORE:                                                                         \n",
      "0.7291724                                                                      \n"
     ]
    },
    {
     "name": "stdout",
     "output_type": "stream",
     "text": [
      "ERROR                                                                          \n",
      "0.0016105158987102918                                                          \n",
      "SCORE:                                                                         \n",
      "0.7289743399999999                                                             \n",
      "ERROR                                                                          \n",
      "0.0014468084733987464                                                          \n",
      "SCORE:                                                                         \n",
      "0.7288875399999999                                                             \n",
      "ERROR                                                                          \n",
      "0.0016232407484746455                                                          \n",
      "SCORE:                                                                         \n",
      "0.68044138                                                                     \n",
      "ERROR                                                                          \n",
      "0.005161119951180876                                                           \n",
      "SCORE:                                                                         \n",
      "0.7289756599999999                                                             \n",
      "ERROR                                                                          \n",
      "0.0014334199830674354                                                          \n",
      "SCORE:                                                                         \n",
      "0.7266484                                                                      \n",
      "ERROR                                                                          \n",
      "0.001914196918816662                                                           \n",
      "SCORE:                                                                         \n",
      "0.7220429599999999                                                             \n",
      "ERROR                                                                          \n",
      "0.0019894541093300093                                                          \n",
      "SCORE:                                                                         \n",
      "0.5                                                                            \n",
      "ERROR                                                                          \n",
      "0.0                                                                            \n",
      "SCORE:                                                                         \n",
      "0.72932328                                                                     \n",
      "ERROR                                                                          \n",
      "0.0015683678460968041                                                          \n",
      "SCORE:                                                                         \n",
      "0.5                                                                   \n",
      "ERROR                                                                 \n",
      "0.0                                                                   \n",
      "SCORE:                                                                \n",
      "0.7293263600000001                                                    \n",
      "ERROR                                                                 \n",
      "0.0016023671896119181                                                 \n",
      "SCORE:                                                                         \n",
      "0.7275982400000001                                                             \n",
      "ERROR                                                                          \n",
      "0.0019791772266288697                                                          \n",
      "SCORE:                                                                         \n",
      "0.7166092                                                                      \n",
      "ERROR                                                                          \n",
      "0.0032410233541272856                                                          \n",
      "SCORE:                                                                         \n",
      "0.7291097599999999                                                             \n",
      "ERROR                                                                          \n",
      "0.0016262429570760267                                                          \n",
      "SCORE:                                                                         \n",
      "0.72820642                                                                     \n",
      "ERROR                                                                          \n",
      "0.0015077903340062735                                                          \n",
      "SCORE:                                                                         \n",
      "0.69608172                                                                     \n",
      "ERROR                                                                          \n",
      "0.00354975213105175                                                            \n",
      "SCORE:                                                                         \n",
      "0.7243515599999999                                                             \n",
      "ERROR                                                                          \n",
      "0.0017726675302060456                                                          \n",
      "SCORE:                                                                         \n",
      "0.72723058                                                                     \n",
      "ERROR                                                                          \n",
      "0.0009601422470069546                                                          \n",
      "SCORE:                                                                         \n",
      "0.5                                                                            \n",
      "ERROR                                                                          \n",
      "0.0                                                                            \n",
      "SCORE:                                                                         \n",
      "0.729068                                                                       \n",
      "ERROR                                                                          \n",
      "0.0016673146320987358                                                          \n",
      "SCORE:                                                                         \n",
      "0.72905996                                                                     \n",
      "ERROR                                                                          \n",
      "0.0013948817392316053                                                          \n",
      "SCORE:                                                                         \n",
      "0.7279786199999999                                                             \n",
      "ERROR                                                                          \n",
      "0.0012270336606601373                                                          \n",
      "SCORE:                                                                         \n",
      "0.72655012                                                                     \n",
      "ERROR                                                                          \n",
      "0.001888528880614191                                                           \n",
      "SCORE:                                                                         \n",
      "0.70242792                                                                     \n",
      "ERROR                                                                          \n",
      "0.004297277212747576                                                           \n",
      "100%|██████████| 50/50 [03:41<00:00,  4.43s/it, best loss: 0.27067363999999994]\n",
      "Optimization Time: %f seconds 221.38358736038208\n",
      "CPU times: user 1h 15min 8s, sys: 3min 19s, total: 1h 18min 28s\n",
      "Wall time: 3min 41s\n"
     ]
    }
   ],
   "source": [
    "%%time\n",
    "trials = Trials()\n",
    "import time\n",
    "start = time.time()\n",
    "best = fmin(fn=objective, space = space, algo = tpe.suggest, max_evals = 50, trials = trials, rstate=np.random.RandomState(seed=0))\n",
    "end = time.time()\n",
    "print(\"Optimization Time: %f seconds\", (end  -start))"
   ]
  },
  {
   "cell_type": "code",
   "execution_count": 16,
   "metadata": {},
   "outputs": [
    {
     "data": {
      "text/plain": [
       "{'x_learning_rate': 0.18921035156121235,\n",
       " 'x_max_depth': 6,\n",
       " 'x_min_child': 16,\n",
       " 'x_subsample': 0.8504555158965229}"
      ]
     },
     "execution_count": 16,
     "metadata": {},
     "output_type": "execute_result"
    }
   ],
   "source": [
    "best"
   ]
  },
  {
   "cell_type": "code",
   "execution_count": 17,
   "metadata": {},
   "outputs": [
    {
     "name": "stdout",
     "output_type": "stream",
     "text": [
      "[0]\ttrain-auc:0.73257+0.00039\ttest-auc:0.72662+0.00225\n",
      "[1]\ttrain-auc:0.73496+0.00043\ttest-auc:0.72842+0.00165\n",
      "[2]\ttrain-auc:0.73589+0.00038\ttest-auc:0.72905+0.00153\n",
      "[3]\ttrain-auc:0.73649+0.00045\ttest-auc:0.72928+0.00148\n",
      "[4]\ttrain-auc:0.73702+0.00036\ttest-auc:0.72973+0.00154\n",
      "[5]\ttrain-auc:0.73756+0.00043\ttest-auc:0.72983+0.00129\n",
      "[6]\ttrain-auc:0.73802+0.00029\ttest-auc:0.73002+0.00132\n",
      "[7]\ttrain-auc:0.73865+0.00041\ttest-auc:0.73010+0.00155\n",
      "[8]\ttrain-auc:0.73898+0.00040\ttest-auc:0.73003+0.00173\n",
      "[9]\ttrain-auc:0.73937+0.00051\ttest-auc:0.73019+0.00168\n",
      "[10]\ttrain-auc:0.73990+0.00056\ttest-auc:0.73021+0.00171\n",
      "[11]\ttrain-auc:0.74019+0.00056\ttest-auc:0.73017+0.00165\n",
      "[12]\ttrain-auc:0.74065+0.00068\ttest-auc:0.73022+0.00178\n",
      "[13]\ttrain-auc:0.74106+0.00066\ttest-auc:0.73024+0.00165\n",
      "[14]\ttrain-auc:0.74147+0.00059\ttest-auc:0.73034+0.00146\n",
      "[15]\ttrain-auc:0.74181+0.00046\ttest-auc:0.73042+0.00138\n",
      "[16]\ttrain-auc:0.74225+0.00055\ttest-auc:0.73052+0.00138\n",
      "[17]\ttrain-auc:0.74254+0.00071\ttest-auc:0.73060+0.00145\n",
      "[18]\ttrain-auc:0.74294+0.00069\ttest-auc:0.73058+0.00146\n",
      "[19]\ttrain-auc:0.74317+0.00072\ttest-auc:0.73064+0.00142\n",
      "[20]\ttrain-auc:0.74349+0.00065\ttest-auc:0.73066+0.00147\n",
      "[21]\ttrain-auc:0.74376+0.00066\ttest-auc:0.73069+0.00155\n",
      "[22]\ttrain-auc:0.74405+0.00066\ttest-auc:0.73071+0.00155\n",
      "[23]\ttrain-auc:0.74430+0.00068\ttest-auc:0.73067+0.00159\n",
      "[24]\ttrain-auc:0.74449+0.00069\ttest-auc:0.73062+0.00163\n",
      "[25]\ttrain-auc:0.74469+0.00059\ttest-auc:0.73062+0.00165\n",
      "[26]\ttrain-auc:0.74500+0.00057\ttest-auc:0.73062+0.00162\n",
      "[27]\ttrain-auc:0.74526+0.00059\ttest-auc:0.73064+0.00164\n",
      "[28]\ttrain-auc:0.74541+0.00060\ttest-auc:0.73057+0.00160\n",
      "[29]\ttrain-auc:0.74570+0.00069\ttest-auc:0.73060+0.00158\n",
      "[30]\ttrain-auc:0.74592+0.00064\ttest-auc:0.73060+0.00158\n",
      "[31]\ttrain-auc:0.74612+0.00066\ttest-auc:0.73058+0.00155\n",
      "[32]\ttrain-auc:0.74631+0.00070\ttest-auc:0.73060+0.00155\n",
      "[33]\ttrain-auc:0.74651+0.00068\ttest-auc:0.73061+0.00155\n",
      "[34]\ttrain-auc:0.74687+0.00073\ttest-auc:0.73061+0.00151\n",
      "[35]\ttrain-auc:0.74711+0.00073\ttest-auc:0.73048+0.00156\n",
      "[36]\ttrain-auc:0.74729+0.00081\ttest-auc:0.73047+0.00153\n",
      "[37]\ttrain-auc:0.74752+0.00076\ttest-auc:0.73041+0.00157\n",
      "[38]\ttrain-auc:0.74782+0.00077\ttest-auc:0.73041+0.00163\n",
      "[39]\ttrain-auc:0.74794+0.00082\ttest-auc:0.73044+0.00160\n",
      "[40]\ttrain-auc:0.74812+0.00084\ttest-auc:0.73050+0.00164\n",
      "[41]\ttrain-auc:0.74832+0.00093\ttest-auc:0.73047+0.00163\n",
      "[42]\ttrain-auc:0.74848+0.00095\ttest-auc:0.73050+0.00162\n",
      "[43]\ttrain-auc:0.74864+0.00101\ttest-auc:0.73055+0.00159\n",
      "[44]\ttrain-auc:0.74892+0.00098\ttest-auc:0.73063+0.00166\n",
      "[45]\ttrain-auc:0.74910+0.00107\ttest-auc:0.73061+0.00161\n",
      "[46]\ttrain-auc:0.74926+0.00117\ttest-auc:0.73057+0.00160\n",
      "[47]\ttrain-auc:0.74944+0.00116\ttest-auc:0.73056+0.00153\n",
      "[48]\ttrain-auc:0.74959+0.00119\ttest-auc:0.73055+0.00153\n",
      "[49]\ttrain-auc:0.74975+0.00119\ttest-auc:0.73055+0.00150\n"
     ]
    }
   ],
   "source": [
    "model = XGBClassifier(learning_rate = best[\"x_learning_rate\"], \n",
    "                         max_depth = int(best[\"x_max_depth\"]), \n",
    "                         subsample = best[\"x_subsample\"],\n",
    "                         min_child_weight = best['x_min_child'])\n",
    "\n",
    "score = xgb.cv(model.get_xgb_params(), dtrain, nfold = 5, metrics = \"auc\", verbose_eval=True, num_boost_round=50)"
   ]
  },
  {
   "cell_type": "code",
   "execution_count": 18,
   "metadata": {},
   "outputs": [
    {
     "data": {
      "text/plain": [
       "Text(0, 0.5, 'CV AUC score')"
      ]
     },
     "execution_count": 18,
     "metadata": {},
     "output_type": "execute_result"
    },
    {
     "data": {
      "image/png": "[encoded data removed]",
      "text/plain": [
       "<Figure size 432x288 with 1 Axes>"
      ]
     },
     "metadata": {
      "needs_background": "light"
     },
     "output_type": "display_data"
    }
   ],
   "source": [
    "n_estimators = 6\n",
    "fig, ax = plt.subplots()\n",
    "ax.plot(score.index, score['train-auc-mean'], label='Train')\n",
    "ax.plot(score.index, score['test-auc-mean'], label='Test')\n",
    "ax.axvline(n_estimators, linestyle='--')\n",
    "ax.legend()\n",
    "ax.set_xlabel('n_estimators (num trees)')\n",
    "ax.set_ylabel('CV AUC score')"
   ]
  },
  {
   "cell_type": "code",
   "execution_count": 19,
   "metadata": {},
   "outputs": [
    {
     "data": {
      "text/plain": [
       "XGBClassifier(base_score=0.5, booster=None, colsample_bylevel=1,\n",
       "              colsample_bynode=1, colsample_bytree=1, gamma=0, gpu_id=-1,\n",
       "              importance_type='gain', interaction_constraints=None,\n",
       "              learning_rate=0.18921035156121235, max_delta_step=0, max_depth=6,\n",
       "              min_child_weight=16, missing=nan, monotone_constraints=None,\n",
       "              n_estimators=6, n_jobs=0, num_parallel_tree=1,\n",
       "              objective='binary:logistic', random_state=0, reg_alpha=0,\n",
       "              reg_lambda=1, scale_pos_weight=1, subsample=0.8504555158965229,\n",
       "              tree_method=None, validate_parameters=False, verbosity=None)"
      ]
     },
     "execution_count": 19,
     "metadata": {},
     "output_type": "execute_result"
    }
   ],
   "source": [
    "model.set_params(n_estimators = n_estimators)\n",
    "model.fit(trainX, trainY)"
   ]
  },
  {
   "cell_type": "code",
   "execution_count": 20,
   "metadata": {},
   "outputs": [],
   "source": [
    "model.save_model(datapath+'../spock/models/AMD.json')"
   ]
  },
  {
   "cell_type": "code",
   "execution_count": 21,
   "metadata": {},
   "outputs": [],
   "source": [
    "model = XGBClassifier()\n",
    "model.load_model(datapath+'../spock/models/AMD.json')"
   ]
  },
  {
   "cell_type": "code",
   "execution_count": 22,
   "metadata": {},
   "outputs": [
    {
     "data": {
      "text/plain": [
       "Text(0.5, 1.0, 'ROC curve (AUC = 0.726)')"
      ]
     },
     "execution_count": 22,
     "metadata": {},
     "output_type": "execute_result"
    },
    {
     "data": {
      "image/png": "[encoded data removed]",
      "text/plain": [
       "<Figure size 432x288 with 1 Axes>"
      ]
     },
     "metadata": {
      "needs_background": "light"
     },
     "output_type": "display_data"
    }
   ],
   "source": [
    "roc_auc, fpr, tpr, ROCthresholds = ROC_curve(trainingdatafolder, model, features)\n",
    "\n",
    "fig, ax = plt.subplots()\n",
    "ax.plot(fpr, tpr)\n",
    "ax.plot([0, 1], [0, 1], 'k--')\n",
    "ax.set_xlim([0.0, 1.0])\n",
    "ax.set_ylim([0.0, 1.0])\n",
    "ax.set_xlabel('False Positive Rate')\n",
    "ax.set_ylabel('True Positive Rate')\n",
    "ax.set_title('ROC curve (AUC = {0:.3f})'.format(roc_auc))"
   ]
  },
  {
   "cell_type": "markdown",
   "metadata": {},
   "source": [
    "# Hill"
   ]
  },
  {
   "cell_type": "code",
   "execution_count": 23,
   "metadata": {},
   "outputs": [],
   "source": [
    "features = ['betanear', 'betafar']\n",
    "\n",
    "trainX, trainY, testX, testY = train_test_split(trainingdatafolder, features, filter=False)\n",
    "\n",
    "dtrain = xgb.DMatrix(trainX, trainY)\n",
    "dtest = xgb.DMatrix(testX, testY)"
   ]
  },
  {
   "cell_type": "code",
   "execution_count": 24,
   "metadata": {},
   "outputs": [
    {
     "name": "stdout",
     "output_type": "stream",
     "text": [
      "SCORE:                                              \n",
      "0.5                                                 \n",
      "ERROR                                               \n",
      "0.0                                                 \n",
      "SCORE:                                                        \n",
      "0.5                                                           \n",
      "ERROR                                                         \n",
      "0.0                                                           \n",
      "SCORE:                                                        \n",
      "0.72115924                                                    \n",
      "ERROR                                                         \n",
      "0.0008330271555922819                                         \n",
      "SCORE:                                                               \n",
      "0.5                                                                  \n",
      "ERROR                                                                \n",
      "0.0                                                                  \n",
      "SCORE:                                                               \n",
      "0.7211864600000001                                                   \n",
      "ERROR                                                                \n",
      "0.001024247562633356                                                 \n",
      "SCORE:                                                                       \n",
      "0.7210152                                                                    \n",
      "ERROR                                                                        \n",
      "0.0012891295435311686                                                        \n",
      "SCORE:                                                                       \n",
      "0.7189844400000001                                                           \n",
      "ERROR                                                                        \n",
      "0.0008143293245667666                                                        \n",
      "SCORE:                                                                       \n",
      "0.72107388                                                                   \n",
      "ERROR                                                                        \n",
      "0.001112584275036845                                                         \n",
      "SCORE:                                                                       \n",
      "0.71979868                                                                   \n",
      "ERROR                                                                        \n",
      "0.0010952097519445502                                                        \n",
      "SCORE:                                                                       \n",
      "0.7199796                                                                    \n",
      "ERROR                                                                        \n",
      "0.0010404163974605351                                                        \n",
      "SCORE:                                                                        \n",
      "0.7089640800000001                                                            \n",
      "ERROR                                                                         \n",
      "0.0014402606669414485                                                         \n",
      "SCORE:                                                                        \n",
      "0.7207006                                                                     \n",
      "ERROR                                                                         \n",
      "0.0010152414469969413                                                         \n",
      "SCORE:                                                                        \n",
      "0.68089504                                                                    \n",
      "ERROR                                                                         \n",
      "0.0026050810899064824                                                         \n",
      "SCORE:                                                                        \n",
      "0.72049582                                                                    \n",
      "ERROR                                                                         \n",
      "0.0009098410985073568                                                         \n",
      "SCORE:                                                                        \n",
      "0.7205538600000001                                                            \n",
      "ERROR                                                                         \n",
      "0.0007410438626102028                                                         \n",
      "SCORE:                                                                        \n",
      "0.72053148                                                                    \n",
      "ERROR                                                                         \n",
      "0.001445681865042224                                                          \n",
      "SCORE:                                                                        \n",
      "0.7188296399999999                                                            \n",
      "ERROR                                                                         \n",
      "0.0011989258430910841                                                         \n",
      "SCORE:                                                                        \n",
      "0.71962054                                                                    \n",
      "ERROR                                                                         \n",
      "0.0008076262383091932                                                         \n",
      "SCORE:                                                                        \n",
      "0.6985823                                                                     \n",
      "ERROR                                                                         \n",
      "0.001738956564336629                                                          \n",
      "SCORE:                                                                        \n",
      "0.72051068                                                                    \n",
      "ERROR                                                                         \n",
      "0.0012489087705798388                                                         \n",
      "SCORE:                                                                        \n",
      "0.72109424                                                                    \n",
      "ERROR                                                                         \n",
      "0.0011109970010328607                                                         \n",
      "SCORE:                                                                        \n",
      "0.71725764                                                                    \n",
      "ERROR                                                                         \n",
      "0.00082641215826986                                                           \n",
      "SCORE:                                                                        \n",
      "0.7212747800000001                                                            \n",
      "ERROR                                                                         \n",
      "0.001114904812316702                                                          \n",
      "SCORE:                                                                        \n",
      "0.72133394                                                                    \n",
      "ERROR                                                                         \n",
      "0.0009019527712142642                                                         \n",
      "SCORE:                                                                         \n",
      "0.7212724199999999                                                             \n",
      "ERROR                                                                          \n",
      "0.0009558868990680239                                                          \n",
      "SCORE:                                                                         \n",
      "0.72158404                                                                     \n",
      "ERROR                                                                          \n",
      "0.0008107659980416453                                                          \n",
      "SCORE:                                                                         \n",
      "0.72119314                                                            \n",
      "ERROR                                                                 \n"
     ]
    },
    {
     "name": "stdout",
     "output_type": "stream",
     "text": [
      "0.0008770154764299766                                                 \n",
      "SCORE:                                                                \n",
      "0.7212758399999999                                                    \n",
      "ERROR                                                                 \n",
      "0.0008108366953093547                                                 \n",
      "SCORE:                                                                \n",
      "0.7210861800000001                                                    \n",
      "ERROR                                                                 \n",
      "0.0005725149122170598                                                 \n",
      "SCORE:                                                                \n",
      "0.72109016                                                            \n",
      "ERROR                                                                 \n",
      "0.000879679060593273                                                  \n",
      "SCORE:                                                                \n",
      "0.7173930399999999                                                    \n",
      "ERROR                                                                 \n",
      "0.0008221982687751008                                                 \n",
      "SCORE:                                                                \n",
      "0.71997958                                                            \n",
      "ERROR                                                                 \n",
      "0.0011113375058739165                                                 \n",
      "SCORE:                                                                \n",
      "0.6885393200000001                                                    \n",
      "ERROR                                                                 \n",
      "0.002640524509581291                                                  \n",
      "SCORE:                                                                \n",
      "0.5                                                                   \n",
      "ERROR                                                                 \n",
      "0.0                                                                   \n",
      "SCORE:                                                                \n",
      "0.72091792                                                            \n",
      "ERROR                                                                 \n",
      "0.0009510455401694392                                                 \n",
      "SCORE:                                                                \n",
      "0.5                                                                   \n",
      "ERROR                                                                 \n",
      "0.0                                                                   \n",
      "SCORE:                                                                \n",
      "0.72072866                                                            \n",
      "ERROR                                                                 \n",
      "0.000931131784169702                                                  \n",
      "SCORE:                                                                \n",
      "0.71954356                                                            \n",
      "ERROR                                                                 \n",
      "0.0009872628702215166                                                 \n",
      "SCORE:                                                                \n",
      "0.70661626                                                            \n",
      "ERROR                                                                 \n",
      "0.0021679984378099064                                                 \n",
      "SCORE:                                                                \n",
      "0.72135774                                                            \n",
      "ERROR                                                                 \n",
      "0.0007750064814435017                                                 \n",
      "SCORE:                                                                \n",
      "0.7211977                                                             \n",
      "ERROR                                                                 \n",
      "0.0011103171668392846                                                 \n",
      "SCORE:                                                                \n",
      "0.67456664                                                            \n",
      "ERROR                                                                 \n",
      "0.004705430803925409                                                  \n",
      "SCORE:                                                                \n",
      "0.7152885                                                             \n",
      "ERROR                                                                 \n",
      "0.001052259416516652                                                  \n",
      "SCORE:                                                                \n",
      "0.7193781                                                             \n",
      "ERROR                                                                 \n",
      "0.0012145389904772773                                                 \n",
      "SCORE:                                                                \n",
      "0.5                                                                   \n",
      "ERROR                                                                 \n",
      "0.0                                                                   \n",
      "SCORE:                                                                \n",
      "0.7205851400000001                                                    \n",
      "ERROR                                                                 \n",
      "0.000983265924767079                                                  \n",
      "SCORE:                                                                \n",
      "0.7209937                                                             \n",
      "ERROR                                                                 \n",
      "0.0010679364567604246                                                 \n",
      "SCORE:                                                                \n",
      "0.7209426200000001                                                    \n",
      "ERROR                                                                 \n",
      "0.0009546660090808664                                                 \n",
      "SCORE:                                                                \n",
      "0.7181739                                                             \n",
      "ERROR                                                                 \n",
      "0.0007590271457591988                                                 \n",
      "SCORE:                                                                \n",
      "0.70821692                                                            \n",
      "ERROR                                                                 \n",
      "0.0019920445357001016                                                 \n",
      "100%|██████████| 50/50 [02:45<00:00,  3.31s/it, best loss: 0.27841596]\n",
      "Optimization Time: %f seconds 165.31245517730713\n",
      "CPU times: user 52min 27s, sys: 2min 17s, total: 54min 45s\n",
      "Wall time: 2min 45s\n"
     ]
    }
   ],
   "source": [
    "%%time\n",
    "trials = Trials()\n",
    "import time\n",
    "start = time.time()\n",
    "best = fmin(fn=objective, space = space, algo = tpe.suggest, max_evals = 50, trials = trials, rstate=np.random.RandomState(seed=0))\n",
    "end = time.time()\n",
    "print(\"Optimization Time: %f seconds\", (end  -start))"
   ]
  },
  {
   "cell_type": "code",
   "execution_count": 25,
   "metadata": {},
   "outputs": [
    {
     "data": {
      "text/plain": [
       "{'x_learning_rate': 0.19849685217702318,\n",
       " 'x_max_depth': 6,\n",
       " 'x_min_child': 4,\n",
       " 'x_subsample': 0.8001495134481562}"
      ]
     },
     "execution_count": 25,
     "metadata": {},
     "output_type": "execute_result"
    }
   ],
   "source": [
    "best"
   ]
  },
  {
   "cell_type": "code",
   "execution_count": 26,
   "metadata": {},
   "outputs": [
    {
     "name": "stdout",
     "output_type": "stream",
     "text": [
      "[0]\ttrain-auc:0.72514+0.00062\ttest-auc:0.71680+0.00182\n",
      "[1]\ttrain-auc:0.72853+0.00052\ttest-auc:0.71992+0.00052\n",
      "[2]\ttrain-auc:0.72994+0.00040\ttest-auc:0.72115+0.00077\n",
      "[3]\ttrain-auc:0.73103+0.00019\ttest-auc:0.72169+0.00089\n",
      "[4]\ttrain-auc:0.73185+0.00026\ttest-auc:0.72200+0.00081\n",
      "[5]\ttrain-auc:0.73251+0.00015\ttest-auc:0.72236+0.00066\n",
      "[6]\ttrain-auc:0.73300+0.00030\ttest-auc:0.72268+0.00063\n",
      "[7]\ttrain-auc:0.73343+0.00023\ttest-auc:0.72294+0.00067\n",
      "[8]\ttrain-auc:0.73384+0.00024\ttest-auc:0.72305+0.00068\n",
      "[9]\ttrain-auc:0.73432+0.00033\ttest-auc:0.72324+0.00067\n",
      "[10]\ttrain-auc:0.73468+0.00033\ttest-auc:0.72319+0.00077\n",
      "[11]\ttrain-auc:0.73501+0.00030\ttest-auc:0.72321+0.00082\n",
      "[12]\ttrain-auc:0.73531+0.00028\ttest-auc:0.72326+0.00083\n",
      "[13]\ttrain-auc:0.73569+0.00035\ttest-auc:0.72328+0.00076\n",
      "[14]\ttrain-auc:0.73607+0.00032\ttest-auc:0.72327+0.00082\n",
      "[15]\ttrain-auc:0.73636+0.00034\ttest-auc:0.72332+0.00091\n",
      "[16]\ttrain-auc:0.73671+0.00026\ttest-auc:0.72337+0.00088\n",
      "[17]\ttrain-auc:0.73711+0.00035\ttest-auc:0.72335+0.00088\n",
      "[18]\ttrain-auc:0.73737+0.00037\ttest-auc:0.72339+0.00086\n",
      "[19]\ttrain-auc:0.73773+0.00023\ttest-auc:0.72343+0.00087\n",
      "[20]\ttrain-auc:0.73801+0.00025\ttest-auc:0.72345+0.00090\n",
      "[21]\ttrain-auc:0.73836+0.00028\ttest-auc:0.72347+0.00087\n",
      "[22]\ttrain-auc:0.73860+0.00025\ttest-auc:0.72346+0.00090\n",
      "[23]\ttrain-auc:0.73893+0.00034\ttest-auc:0.72350+0.00088\n",
      "[24]\ttrain-auc:0.73933+0.00023\ttest-auc:0.72353+0.00082\n",
      "[25]\ttrain-auc:0.73965+0.00026\ttest-auc:0.72352+0.00090\n",
      "[26]\ttrain-auc:0.73987+0.00022\ttest-auc:0.72353+0.00090\n",
      "[27]\ttrain-auc:0.74027+0.00021\ttest-auc:0.72351+0.00086\n",
      "[28]\ttrain-auc:0.74051+0.00019\ttest-auc:0.72353+0.00097\n",
      "[29]\ttrain-auc:0.74098+0.00009\ttest-auc:0.72353+0.00103\n",
      "[30]\ttrain-auc:0.74131+0.00005\ttest-auc:0.72357+0.00109\n",
      "[31]\ttrain-auc:0.74144+0.00014\ttest-auc:0.72353+0.00107\n",
      "[32]\ttrain-auc:0.74180+0.00013\ttest-auc:0.72361+0.00112\n",
      "[33]\ttrain-auc:0.74213+0.00018\ttest-auc:0.72361+0.00110\n",
      "[34]\ttrain-auc:0.74240+0.00028\ttest-auc:0.72357+0.00106\n",
      "[35]\ttrain-auc:0.74281+0.00040\ttest-auc:0.72369+0.00096\n",
      "[36]\ttrain-auc:0.74318+0.00044\ttest-auc:0.72370+0.00100\n",
      "[37]\ttrain-auc:0.74344+0.00040\ttest-auc:0.72369+0.00095\n",
      "[38]\ttrain-auc:0.74378+0.00030\ttest-auc:0.72363+0.00095\n",
      "[39]\ttrain-auc:0.74413+0.00031\ttest-auc:0.72365+0.00092\n",
      "[40]\ttrain-auc:0.74458+0.00024\ttest-auc:0.72368+0.00090\n",
      "[41]\ttrain-auc:0.74498+0.00029\ttest-auc:0.72362+0.00089\n",
      "[42]\ttrain-auc:0.74531+0.00042\ttest-auc:0.72353+0.00095\n",
      "[43]\ttrain-auc:0.74571+0.00046\ttest-auc:0.72340+0.00091\n",
      "[44]\ttrain-auc:0.74607+0.00054\ttest-auc:0.72336+0.00092\n",
      "[45]\ttrain-auc:0.74649+0.00052\ttest-auc:0.72332+0.00098\n",
      "[46]\ttrain-auc:0.74674+0.00057\ttest-auc:0.72333+0.00095\n",
      "[47]\ttrain-auc:0.74698+0.00046\ttest-auc:0.72337+0.00096\n",
      "[48]\ttrain-auc:0.74727+0.00049\ttest-auc:0.72335+0.00095\n",
      "[49]\ttrain-auc:0.74757+0.00047\ttest-auc:0.72334+0.00100\n"
     ]
    }
   ],
   "source": [
    "model = XGBClassifier(learning_rate = best[\"x_learning_rate\"], \n",
    "                         max_depth = int(best[\"x_max_depth\"]), \n",
    "                         subsample = best[\"x_subsample\"],\n",
    "                         min_child_weight = best['x_min_child'])\n",
    "\n",
    "score = xgb.cv(model.get_xgb_params(), dtrain, nfold = 5, metrics = \"auc\", verbose_eval=True, num_boost_round=50)"
   ]
  },
  {
   "cell_type": "code",
   "execution_count": 27,
   "metadata": {},
   "outputs": [
    {
     "data": {
      "text/plain": [
       "Text(0, 0.5, 'CV AUC score')"
      ]
     },
     "execution_count": 27,
     "metadata": {},
     "output_type": "execute_result"
    },
    {
     "data": {
      "image/png": "[encoded data removed]",
      "text/plain": [
       "<Figure size 432x288 with 1 Axes>"
      ]
     },
     "metadata": {
      "needs_background": "light"
     },
     "output_type": "display_data"
    }
   ],
   "source": [
    "n_estimators = 8\n",
    "fig, ax = plt.subplots()\n",
    "ax.plot(score.index, score['train-auc-mean'], label='Train')\n",
    "ax.plot(score.index, score['test-auc-mean'], label='Test')\n",
    "ax.axvline(n_estimators, linestyle='--')\n",
    "ax.legend()\n",
    "ax.set_xlabel('n_estimators (num trees)')\n",
    "ax.set_ylabel('CV AUC score')"
   ]
  },
  {
   "cell_type": "code",
   "execution_count": 28,
   "metadata": {},
   "outputs": [
    {
     "data": {
      "text/plain": [
       "XGBClassifier(base_score=0.5, booster=None, colsample_bylevel=1,\n",
       "              colsample_bynode=1, colsample_bytree=1, gamma=0, gpu_id=-1,\n",
       "              importance_type='gain', interaction_constraints=None,\n",
       "              learning_rate=0.19849685217702318, max_delta_step=0, max_depth=6,\n",
       "              min_child_weight=4, missing=nan, monotone_constraints=None,\n",
       "              n_estimators=8, n_jobs=0, num_parallel_tree=1,\n",
       "              objective='binary:logistic', random_state=0, reg_alpha=0,\n",
       "              reg_lambda=1, scale_pos_weight=1, subsample=0.8001495134481562,\n",
       "              tree_method=None, validate_parameters=False, verbosity=None)"
      ]
     },
     "execution_count": 28,
     "metadata": {},
     "output_type": "execute_result"
    }
   ],
   "source": [
    "model.set_params(n_estimators = n_estimators)\n",
    "model.fit(trainX, trainY)"
   ]
  },
  {
   "cell_type": "code",
   "execution_count": 29,
   "metadata": {},
   "outputs": [],
   "source": [
    "model.save_model(datapath+'../spock/models/hill.json')"
   ]
  },
  {
   "cell_type": "code",
   "execution_count": 30,
   "metadata": {},
   "outputs": [],
   "source": [
    "model = XGBClassifier()\n",
    "model.load_model(datapath+'../spock/models/hill.json')"
   ]
  },
  {
   "cell_type": "code",
   "execution_count": 31,
   "metadata": {},
   "outputs": [
    {
     "data": {
      "text/plain": [
       "Text(0.5, 1.0, 'ROC curve (AUC = 0.725)')"
      ]
     },
     "execution_count": 31,
     "metadata": {},
     "output_type": "execute_result"
    },
    {
     "data": {
      "image/png": "[encoded data removed]",
      "text/plain": [
       "<Figure size 432x288 with 1 Axes>"
      ]
     },
     "metadata": {
      "needs_background": "light"
     },
     "output_type": "display_data"
    }
   ],
   "source": [
    "roc_auc, fpr, tpr, ROCthresholds = ROC_curve(trainingdatafolder, model, features)\n",
    "\n",
    "fig, ax = plt.subplots()\n",
    "ax.plot(fpr, tpr)\n",
    "ax.plot([0, 1], [0, 1], 'k--')\n",
    "ax.set_xlim([0.0, 1.0])\n",
    "ax.set_ylim([0.0, 1.0])\n",
    "ax.set_xlabel('False Positive Rate')\n",
    "ax.set_ylabel('True Positive Rate')\n",
    "ax.set_title('ROC curve (AUC = {0:.3f})'.format(roc_auc))"
   ]
  },
  {
   "cell_type": "markdown",
   "metadata": {},
   "source": [
    "# N-body"
   ]
  },
  {
   "cell_type": "code",
   "execution_count": 32,
   "metadata": {},
   "outputs": [],
   "source": [
    "datapath = '../training_data/'\n",
    "dset = 'resonant/'\n",
    "featurefolder = 'shadowtimes/'\n",
    "trainingdatafolder = datapath+dset+featurefolder\n",
    "features=None"
   ]
  },
  {
   "cell_type": "code",
   "execution_count": 33,
   "metadata": {},
   "outputs": [],
   "source": [
    "trainingdatafolder = datapath+dset+featurefolder\n",
    "trainX, trainY, testX, testY = train_test_split(trainingdatafolder, features)\n",
    "dtrain = xgb.DMatrix(trainX, trainY)\n",
    "dtest = xgb.DMatrix(testX, testY)"
   ]
  },
  {
   "cell_type": "code",
   "execution_count": 34,
   "metadata": {},
   "outputs": [],
   "source": [
    "shadowstable = trainX['shadow_instability_time'] > 8.99e8"
   ]
  },
  {
   "cell_type": "markdown",
   "metadata": {},
   "source": [
    "2% had stability in shadow integration disagree with nominal integration"
   ]
  },
  {
   "cell_type": "code",
   "execution_count": 35,
   "metadata": {},
   "outputs": [
    {
     "data": {
      "text/plain": [
       "0.016084285619922055"
      ]
     },
     "execution_count": 35,
     "metadata": {},
     "output_type": "execute_result"
    }
   ],
   "source": [
    "(trainY != shadowstable).sum()/trainY.shape[0]"
   ]
  },
  {
   "cell_type": "code",
   "execution_count": 36,
   "metadata": {},
   "outputs": [
    {
     "name": "stdout",
     "output_type": "stream",
     "text": [
      "SCORE:                                              \n",
      "0.5                                                 \n",
      "ERROR                                               \n",
      "0.0                                                 \n",
      "SCORE:                                                        \n",
      "0.5                                                           \n",
      "ERROR                                                         \n",
      "0.0                                                           \n",
      "SCORE:                                                        \n",
      "0.9899057600000001                                            \n",
      "ERROR                                                         \n",
      "0.0009376993960080948                                         \n",
      "SCORE:                                                                         \n",
      "0.5                                                                            \n",
      "ERROR                                                                          \n",
      "0.0                                                                            \n",
      "SCORE:                                                                         \n",
      "0.9898858599999999                                                             \n",
      "ERROR                                                                          \n",
      "0.0009516791514549225                                                          \n",
      "SCORE:                                                                         \n",
      "0.98990026                                                                     \n",
      "ERROR                                                                          \n",
      "0.0008937830586308495                                                          \n",
      "SCORE:                                                                         \n",
      "0.9897368199999999                                                             \n",
      "ERROR                                                                          \n",
      "0.0009409367912025743                                                          \n",
      "SCORE:                                                                         \n",
      "0.9897491199999999                                                             \n",
      "ERROR                                                                          \n",
      "0.0009547241731571534                                                          \n",
      "SCORE:                                                                         \n",
      "0.9898876399999998                                                             \n",
      "ERROR                                                                          \n",
      "0.0009009479151591794                                                          \n",
      "SCORE:                                                                         \n",
      "0.98986778                                                                     \n",
      "ERROR                                                                          \n",
      "0.0009311332212106702                                                          \n",
      "SCORE:                                                                          \n",
      "0.9897356                                                                       \n",
      "ERROR                                                                           \n",
      "0.0009456350918178183                                                           \n",
      "SCORE:                                                                          \n",
      "0.9897232199999999                                                              \n",
      "ERROR                                                                           \n",
      "0.0009484507085598823                                                           \n",
      "SCORE:                                                                          \n",
      "0.9881220000000001                                                              \n",
      "ERROR                                                                           \n",
      "0.0011532366626152662                                                           \n",
      "SCORE:                                                                          \n",
      "0.9899751599999999                                                              \n",
      "ERROR                                                                           \n",
      "0.0008564570350484286                                                           \n",
      "SCORE:                                                                          \n",
      "0.9897918800000001                                                              \n",
      "ERROR                                                                           \n",
      "0.0009611569148808308                                                           \n",
      "SCORE:                                                                          \n",
      "0.98973128                                                                      \n",
      "ERROR                                                                           \n",
      "0.0009367474675693339                                                           \n",
      "SCORE:                                                                          \n",
      "0.98971014                                                                      \n",
      "ERROR                                                                           \n",
      "0.0009511135240529726                                                           \n",
      "SCORE:                                                                          \n",
      "0.98971626                                                                      \n",
      "ERROR                                                                           \n",
      "0.0009552063409640711                                                           \n",
      "SCORE:                                                                          \n",
      "0.9897283400000001                                                              \n",
      "ERROR                                                                           \n",
      "0.0009375650693181567                                                           \n",
      "SCORE:                                                                          \n",
      "0.9898516599999999                                                              \n",
      "ERROR                                                                           \n",
      "0.0009218500648548345                                                           \n",
      "SCORE:                                                                          \n",
      "0.9899754399999999                                                              \n",
      "ERROR                                                                           \n",
      "0.0008562495756658864                                                           \n",
      "SCORE:                                                                          \n",
      "0.98999182                                                                      \n",
      "ERROR                                                                           \n",
      "0.0008793487497272114                                                           \n",
      "SCORE:                                                                          \n",
      "0.98987722                                                                      \n",
      "ERROR                                                                           \n",
      "0.0009340664504815004                                                           \n",
      "SCORE:                                                                          \n",
      "0.98992184                                                                      \n",
      "ERROR                                                                           \n",
      "0.00088557732102171                                                             \n",
      "SCORE:                                                                          \n",
      "0.9899926999999998                                                              \n",
      "ERROR                                                                           \n",
      "0.0008645418319643356                                                           \n",
      "SCORE:                                                                          \n",
      "0.98986606                                                                      \n",
      "ERROR                                                                           \n",
      "0.0009374957227487416                                                           \n"
     ]
    },
    {
     "name": "stdout",
     "output_type": "stream",
     "text": [
      "SCORE:                                                                          \n",
      "0.98985794                                                                      \n",
      "ERROR                                                                           \n",
      "0.0009625295810771201                                                           \n",
      "SCORE:                                                                          \n",
      "0.98991662                                                                      \n",
      "ERROR                                                                           \n",
      "0.0009513533163838133                                                           \n",
      "SCORE:                                                                          \n",
      "0.98992822                                                                      \n",
      "ERROR                                                                           \n",
      "0.0009353138350319997                                                           \n",
      "SCORE:                                                                          \n",
      "0.98980614                                                                      \n",
      "ERROR                                                                           \n",
      "0.000964679120342907                                                            \n",
      "SCORE:                                                                          \n",
      "0.9881220000000001                                                              \n",
      "ERROR                                                                           \n",
      "0.0011532366626152662                                                           \n",
      "SCORE:                                                                          \n",
      "0.9898801599999999                                                              \n",
      "ERROR                                                                           \n",
      "0.0009356252645491637                                                           \n",
      "SCORE:                                                                          \n",
      "0.98998086                                                                      \n",
      "ERROR                                                                           \n",
      "0.0008388640146675863                                                           \n",
      "SCORE:                                                                          \n",
      "0.5                                                                             \n",
      "ERROR                                                                           \n",
      "0.0                                                                             \n",
      "SCORE:                                                                          \n",
      "0.9899900799999999                                                              \n",
      "ERROR                                                                           \n",
      "0.0008819421855967692                                                           \n",
      "SCORE:                                                                          \n",
      "0.5                                                                             \n",
      "ERROR                                                                           \n",
      "0.0                                                                             \n",
      "SCORE:                                                                          \n",
      "0.9881220000000001                                                              \n",
      "ERROR                                                                           \n",
      "0.0011532366626152662                                                           \n",
      "SCORE:                                                                          \n",
      "0.9897982599999999                                                              \n",
      "ERROR                                                                           \n",
      "0.0009534945523385852                                                           \n",
      "SCORE:                                                                          \n",
      "0.98991518                                                                      \n",
      "ERROR                                                                           \n",
      "0.0009041790752006174                                                           \n",
      "SCORE:                                                                          \n",
      "0.98976202                                                                      \n",
      "ERROR                                                                           \n",
      "0.000929444786952722                                                            \n",
      "SCORE:                                                                          \n",
      "0.9897390799999999                                                              \n",
      "ERROR                                                                           \n",
      "0.0009455822254550385                                                           \n",
      "SCORE:                                                                          \n",
      "0.98986314                                                                      \n",
      "ERROR                                                                           \n",
      "0.0009655243253015135                                                           \n",
      "SCORE:                                                                          \n",
      "0.989851                                                                        \n",
      "ERROR                                                                           \n",
      "0.0009562163659239958                                                           \n",
      "SCORE:                                                                          \n",
      "0.9897297400000001                                                              \n",
      "ERROR                                                                           \n",
      "0.0009458188969626695                                                           \n",
      "SCORE:                                                                          \n",
      "0.98990362                                                                      \n",
      "ERROR                                                                           \n",
      "0.0009264027502950068                                                           \n",
      "SCORE:                                                                          \n",
      "0.5                                                                             \n",
      "ERROR                                                                           \n",
      "0.0                                                                             \n",
      "SCORE:                                                                          \n",
      "0.9899711999999999                                                              \n",
      "ERROR                                                                           \n",
      "0.0008847046897596395                                                           \n",
      "SCORE:                                                                          \n",
      "0.9897875199999999                                                              \n",
      "ERROR                                                                           \n",
      "0.0009406165251166943                                                           \n",
      "SCORE:                                                                          \n",
      "0.98989192                                                                      \n",
      "ERROR                                                                           \n",
      "0.0009408677047183931                                                           \n",
      "SCORE:                                                                          \n",
      "0.9897289599999999                                                              \n",
      "ERROR                                                                           \n",
      "0.0009421796132161092                                                           \n",
      "100%|██████████| 50/50 [01:41<00:00,  2.03s/it, best loss: 0.010007300000000163]\n",
      "Optimization Time: %f seconds 101.67166590690613\n",
      "CPU times: user 30min 20s, sys: 1min 20s, total: 31min 40s\n",
      "Wall time: 1min 41s\n"
     ]
    }
   ],
   "source": [
    "%%time\n",
    "trials = Trials()\n",
    "import time\n",
    "start = time.time()\n",
    "best = fmin(fn=objective, space = space, algo = tpe.suggest, max_evals = 50, trials = trials, rstate=np.random.RandomState(seed=0))\n",
    "end = time.time()\n",
    "print(\"Optimization Time: %f seconds\", (end  -start))"
   ]
  },
  {
   "cell_type": "code",
   "execution_count": 37,
   "metadata": {},
   "outputs": [
    {
     "data": {
      "text/plain": [
       "{'x_learning_rate': 0.19797937959730308,\n",
       " 'x_max_depth': 3,\n",
       " 'x_min_child': 5,\n",
       " 'x_subsample': 0.945591939597905}"
      ]
     },
     "execution_count": 37,
     "metadata": {},
     "output_type": "execute_result"
    }
   ],
   "source": [
    "best"
   ]
  },
  {
   "cell_type": "code",
   "execution_count": 38,
   "metadata": {},
   "outputs": [
    {
     "name": "stdout",
     "output_type": "stream",
     "text": [
      "[0]\ttrain-auc:0.98973+0.00022\ttest-auc:0.98960+0.00099\n",
      "[1]\ttrain-auc:0.98982+0.00021\ttest-auc:0.98974+0.00094\n",
      "[2]\ttrain-auc:0.98988+0.00024\ttest-auc:0.98976+0.00093\n",
      "[3]\ttrain-auc:0.98989+0.00024\ttest-auc:0.98976+0.00093\n",
      "[4]\ttrain-auc:0.99008+0.00030\ttest-auc:0.99003+0.00090\n",
      "[5]\ttrain-auc:0.99027+0.00024\ttest-auc:0.99013+0.00089\n",
      "[6]\ttrain-auc:0.99028+0.00024\ttest-auc:0.99010+0.00087\n",
      "[7]\ttrain-auc:0.99040+0.00017\ttest-auc:0.99027+0.00073\n",
      "[8]\ttrain-auc:0.99040+0.00016\ttest-auc:0.99027+0.00073\n",
      "[9]\ttrain-auc:0.99040+0.00016\ttest-auc:0.99027+0.00073\n",
      "[10]\ttrain-auc:0.99041+0.00017\ttest-auc:0.99029+0.00071\n",
      "[11]\ttrain-auc:0.99041+0.00017\ttest-auc:0.99029+0.00071\n",
      "[12]\ttrain-auc:0.99042+0.00018\ttest-auc:0.99033+0.00069\n",
      "[13]\ttrain-auc:0.99042+0.00018\ttest-auc:0.99033+0.00069\n",
      "[14]\ttrain-auc:0.99047+0.00022\ttest-auc:0.99039+0.00065\n",
      "[15]\ttrain-auc:0.99047+0.00021\ttest-auc:0.99041+0.00069\n",
      "[16]\ttrain-auc:0.99052+0.00024\ttest-auc:0.99042+0.00068\n",
      "[17]\ttrain-auc:0.99057+0.00023\ttest-auc:0.99047+0.00062\n",
      "[18]\ttrain-auc:0.99063+0.00022\ttest-auc:0.99052+0.00065\n",
      "[19]\ttrain-auc:0.99063+0.00022\ttest-auc:0.99052+0.00065\n",
      "[20]\ttrain-auc:0.99064+0.00022\ttest-auc:0.99052+0.00065\n",
      "[21]\ttrain-auc:0.99064+0.00022\ttest-auc:0.99052+0.00065\n",
      "[22]\ttrain-auc:0.99067+0.00018\ttest-auc:0.99059+0.00077\n",
      "[23]\ttrain-auc:0.99073+0.00016\ttest-auc:0.99064+0.00079\n",
      "[24]\ttrain-auc:0.99076+0.00018\ttest-auc:0.99068+0.00076\n",
      "[25]\ttrain-auc:0.99076+0.00018\ttest-auc:0.99067+0.00077\n",
      "[26]\ttrain-auc:0.99076+0.00018\ttest-auc:0.99067+0.00077\n",
      "[27]\ttrain-auc:0.99078+0.00019\ttest-auc:0.99068+0.00076\n",
      "[28]\ttrain-auc:0.99078+0.00019\ttest-auc:0.99068+0.00076\n",
      "[29]\ttrain-auc:0.99079+0.00018\ttest-auc:0.99068+0.00076\n",
      "[30]\ttrain-auc:0.99079+0.00018\ttest-auc:0.99068+0.00075\n",
      "[31]\ttrain-auc:0.99079+0.00018\ttest-auc:0.99070+0.00074\n",
      "[32]\ttrain-auc:0.99079+0.00018\ttest-auc:0.99070+0.00075\n",
      "[33]\ttrain-auc:0.99079+0.00018\ttest-auc:0.99069+0.00075\n",
      "[34]\ttrain-auc:0.99079+0.00018\ttest-auc:0.99069+0.00075\n",
      "[35]\ttrain-auc:0.99080+0.00018\ttest-auc:0.99069+0.00075\n",
      "[36]\ttrain-auc:0.99081+0.00019\ttest-auc:0.99069+0.00075\n",
      "[37]\ttrain-auc:0.99081+0.00019\ttest-auc:0.99068+0.00076\n",
      "[38]\ttrain-auc:0.99082+0.00019\ttest-auc:0.99070+0.00075\n",
      "[39]\ttrain-auc:0.99082+0.00019\ttest-auc:0.99068+0.00076\n",
      "[40]\ttrain-auc:0.99082+0.00019\ttest-auc:0.99068+0.00076\n",
      "[41]\ttrain-auc:0.99083+0.00019\ttest-auc:0.99067+0.00076\n",
      "[42]\ttrain-auc:0.99083+0.00019\ttest-auc:0.99067+0.00076\n",
      "[43]\ttrain-auc:0.99084+0.00018\ttest-auc:0.99067+0.00075\n",
      "[44]\ttrain-auc:0.99084+0.00018\ttest-auc:0.99067+0.00076\n",
      "[45]\ttrain-auc:0.99084+0.00018\ttest-auc:0.99068+0.00075\n",
      "[46]\ttrain-auc:0.99084+0.00018\ttest-auc:0.99068+0.00075\n",
      "[47]\ttrain-auc:0.99084+0.00018\ttest-auc:0.99068+0.00075\n",
      "[48]\ttrain-auc:0.99084+0.00018\ttest-auc:0.99068+0.00075\n",
      "[49]\ttrain-auc:0.99084+0.00018\ttest-auc:0.99068+0.00075\n"
     ]
    }
   ],
   "source": [
    "model = XGBClassifier(learning_rate = best[\"x_learning_rate\"], \n",
    "                         max_depth = int(best[\"x_max_depth\"]), \n",
    "                         subsample = best[\"x_subsample\"],\n",
    "                         min_child_weight = best['x_min_child'])\n",
    "\n",
    "score = xgb.cv(model.get_xgb_params(), dtrain, nfold = 5, metrics = \"auc\", verbose_eval=True, num_boost_round=50)"
   ]
  },
  {
   "cell_type": "code",
   "execution_count": 39,
   "metadata": {},
   "outputs": [
    {
     "data": {
      "text/plain": [
       "Text(0, 0.5, 'CV AUC score')"
      ]
     },
     "execution_count": 39,
     "metadata": {},
     "output_type": "execute_result"
    },
    {
     "data": {
      "image/png": "[encoded data removed]",
      "text/plain": [
       "<Figure size 432x288 with 1 Axes>"
      ]
     },
     "metadata": {
      "needs_background": "light"
     },
     "output_type": "display_data"
    }
   ],
   "source": [
    "n_estimators = 25\n",
    "fig, ax = plt.subplots()\n",
    "ax.plot(score.index, score['train-auc-mean'], label='Train')\n",
    "ax.plot(score.index, score['test-auc-mean'], label='Test')\n",
    "ax.axvline(n_estimators, linestyle='--')\n",
    "ax.legend()\n",
    "ax.set_xlabel('n_estimators (num trees)')\n",
    "ax.set_ylabel('CV AUC score')"
   ]
  },
  {
   "cell_type": "code",
   "execution_count": 40,
   "metadata": {},
   "outputs": [
    {
     "data": {
      "text/plain": [
       "XGBClassifier(base_score=0.5, booster=None, colsample_bylevel=1,\n",
       "              colsample_bynode=1, colsample_bytree=1, gamma=0, gpu_id=-1,\n",
       "              importance_type='gain', interaction_constraints=None,\n",
       "              learning_rate=0.19797937959730308, max_delta_step=0, max_depth=3,\n",
       "              min_child_weight=5, missing=nan, monotone_constraints=None,\n",
       "              n_estimators=25, n_jobs=0, num_parallel_tree=1,\n",
       "              objective='binary:logistic', random_state=0, reg_alpha=0,\n",
       "              reg_lambda=1, scale_pos_weight=1, subsample=0.945591939597905,\n",
       "              tree_method=None, validate_parameters=False, verbosity=None)"
      ]
     },
     "execution_count": 40,
     "metadata": {},
     "output_type": "execute_result"
    }
   ],
   "source": [
    "model.set_params(n_estimators = n_estimators)\n",
    "model.fit(trainX, trainY)"
   ]
  },
  {
   "cell_type": "code",
   "execution_count": 41,
   "metadata": {},
   "outputs": [],
   "source": [
    "model.save_model(datapath+'../spock/models/nbody.json')"
   ]
  },
  {
   "cell_type": "code",
   "execution_count": 42,
   "metadata": {},
   "outputs": [],
   "source": [
    "model = XGBClassifier()\n",
    "model.load_model(datapath+'../spock/models/nbody.json')"
   ]
  },
  {
   "cell_type": "code",
   "execution_count": 43,
   "metadata": {},
   "outputs": [
    {
     "data": {
      "text/plain": [
       "Text(0.5, 1.0, 'ROC curve (AUC = 0.991)')"
      ]
     },
     "execution_count": 43,
     "metadata": {},
     "output_type": "execute_result"
    },
    {
     "data": {
      "image/png": "[encoded data removed]",
      "text/plain": [
       "<Figure size 432x288 with 1 Axes>"
      ]
     },
     "metadata": {
      "needs_background": "light"
     },
     "output_type": "display_data"
    }
   ],
   "source": [
    "roc_auc, fpr, tpr, ROCthresholds = ROC_curve(trainingdatafolder, model, features)\n",
    "\n",
    "fig, ax = plt.subplots()\n",
    "ax.plot(fpr, tpr)\n",
    "ax.plot([0, 1], [0, 1], 'k--')\n",
    "ax.set_xlim([0.0, 1.0])\n",
    "ax.set_ylim([0.0, 1.0])\n",
    "ax.set_xlabel('False Positive Rate')\n",
    "ax.set_ylabel('True Positive Rate')\n",
    "ax.set_title('ROC curve (AUC = {0:.3f})'.format(roc_auc))"
   ]
  },
  {
   "cell_type": "code",
   "execution_count": null,
   "metadata": {},
   "outputs": [],
   "source": []
  }
 ],
 "metadata": {
  "anaconda-cloud": {},
  "kernelspec": {
   "display_name": "Python 3",
   "language": "python",
   "name": "python3"
  },
  "language_info": {
   "codemirror_mode": {
    "name": "ipython",
    "version": 3
   },
   "file_extension": ".py",
   "mimetype": "text/x-python",
   "name": "python",
   "nbconvert_exporter": "python",
   "pygments_lexer": "ipython3",
   "version": "3.7.3"
  }
 },
 "nbformat": 4,
 "nbformat_minor": 2
}
